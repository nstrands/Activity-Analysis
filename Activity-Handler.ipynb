{
 "cells": [
  {
   "cell_type": "code",
   "execution_count": 26,
   "id": "1162d3a5-9f6a-4e13-aebd-e83a19503623",
   "metadata": {},
   "outputs": [],
   "source": [
    "import csv\n",
    "from shapely.geometry import LineString, Point\n",
    "import geopandas as gpd\n",
    "from pyproj import Transformer\n",
    "from datetime import datetime"
   ]
  },
  {
   "cell_type": "code",
   "execution_count": 28,
   "id": "31a957d4-6fe9-4f37-ae88-61c4a0b06f2c",
   "metadata": {},
   "outputs": [],
   "source": [
    "class ActivityHandler:\n",
    "    def __init__(self):\n",
    "        pass\n",
    "\n",
    "    def build_path(self, points):\n",
    "        # Build a LineString using points (longitude, latitude pairs)\n",
    "        line = LineString(points)\n",
    "        print(f\"Number of points used to create the geometry: {len(points)}\")\n",
    "        return line\n",
    "\n",
    "    def calculate_stats(self, line, start_time, end_time):\n",
    "        # Project LineString to calculate distance in meters, then convert to miles\n",
    "        transformer = Transformer.from_crs(\"epsg:4326\", \"epsg:32617\", always_xy=True)\n",
    "        projected_line = LineString([transformer.transform(x, y) for x, y in line.coords])\n",
    "        distance_meters = projected_line.length\n",
    "        distance_miles = distance_meters * 0.000621371  # Convert meters to miles\n",
    "\n",
    "        # Calculate trip duration in minutes\n",
    "        start_dt = datetime.strptime(start_time, \"%Y/%m/%d %H:%M:%S.%f\")\n",
    "        end_dt = datetime.strptime(end_time, \"%Y/%m/%d %H:%M:%S.%f\")\n",
    "        duration_minutes = (end_dt - start_dt).total_seconds() / 60\n",
    "\n",
    "        # Calculate average speed (miles per hour) and average pace (minutes per mile)\n",
    "        avg_speed = distance_miles / (duration_minutes / 60)\n",
    "        avg_pace = duration_minutes / distance_miles\n",
    "\n",
    "        # Create a dictionary with the stats\n",
    "        stats = {\n",
    "            \"distance_miles\": distance_miles,\n",
    "            \"average_speed_mph\": avg_speed,\n",
    "            \"average_pace_min_per_mile\": avg_pace\n",
    "        }\n",
    "\n",
    "        # Print the statistics\n",
    "        print(f\"Distance covered: {distance_miles:.2f} mi\")\n",
    "        print(f\"Average speed: {avg_speed:.2f} mi/h\")\n",
    "        print(f\"Average pace: {avg_pace:.2f} min/mi\")\n",
    "\n",
    "        return stats\n",
    "\n",
    "    def get_centroid(self, geometry):\n",
    "        # Get the centroid of a geometry object\n",
    "        centroid = geometry.centroid\n",
    "        print(f\"Centroid coordinates: ({centroid.x}, {centroid.y})\")\n",
    "        return centroid\n",
    "\n",
    "    def export_activity(self, path, stats):\n",
    "        # Create a GeoDataFrame from the LineString\n",
    "        line_geoseries = gpd.GeoSeries([path], crs=\"epsg:4326\")\n",
    "        gdf = gpd.GeoDataFrame({\n",
    "            \"geometry\": line_geoseries,\n",
    "            \"distance_miles\": [stats[\"distance_miles\"]],\n",
    "            \"average_speed_mph\": [stats[\"average_speed_mph\"]],\n",
    "            \"average_pace_min_per_mile\": [stats[\"average_pace_min_per_mile\"]]\n",
    "        })\n",
    "\n",
    "        # Save the GeoDataFrame as an ESRI Shapefile\n",
    "        gdf.to_file(\"activity_output.shp\", driver=\"ESRI Shapefile\")"
   ]
  },
  {
   "cell_type": "code",
   "execution_count": 30,
   "id": "930174cd-1527-4cc3-aff1-4c116cae745b",
   "metadata": {},
   "outputs": [
    {
     "name": "stdout",
     "output_type": "stream",
     "text": [
      "Number of points used to create the geometry: 982\n",
      "Distance covered: 8.91 mi\n",
      "Average speed: 5.50 mi/h\n",
      "Average pace: 10.91 min/mi\n",
      "Centroid coordinates: (-80.35526618263411, 25.772596335834272)\n"
     ]
    },
    {
     "name": "stderr",
     "output_type": "stream",
     "text": [
      "C:\\Users\\nstra\\AppData\\Local\\Temp\\ipykernel_36784\\4173906821.py:58: UserWarning: Column names longer than 10 characters will be truncated when saved to ESRI Shapefile.\n",
      "  gdf.to_file(\"activity_output.shp\", driver=\"ESRI Shapefile\")\n"
     ]
    }
   ],
   "source": [
    "if __name__ == '__main__':\n",
    "    # Create lists to store coordinate pairs and timestamps\n",
    "    coordinate_list = []\n",
    "    timestamps = []\n",
    "\n",
    "    # Open CSV file to iterate through rows to extract longitude, latitude, and time\n",
    "    csv_file_path = r\"C:\\Users\\nstra\\iCloudDrive\\Desktop\\School\\GIS6103 GIS Programming and Customization\\Assignments\\Assignment-11\\gps_track.csv\"\n",
    "    with open(csv_file_path, 'r') as csvfile:\n",
    "        reader = csv.DictReader(csvfile)\n",
    "        for row in reader:\n",
    "            latitude = float(row['latitude'])\n",
    "            longitude = float(row['longitude'])\n",
    "            coordinate_list.append((longitude, latitude))\n",
    "            timestamps.append(row['time'])\n",
    "\n",
    "    # Create an instance of ActivityHandler\n",
    "    activity_handler = ActivityHandler()\n",
    "\n",
    "    # Build a shapely LineString\n",
    "    path = activity_handler.build_path(coordinate_list)\n",
    "\n",
    "    # Calculate trip statistics\n",
    "    start_time = timestamps[0]\n",
    "    end_time = timestamps[-1]\n",
    "    stats = activity_handler.calculate_stats(path, start_time, end_time)\n",
    "\n",
    "    # Get the centroid of the trip\n",
    "    centroid = activity_handler.get_centroid(path)\n",
    "\n",
    "    # Export activity as a Shapefile\n",
    "    activity_handler.export_activity(path, stats)"
   ]
  },
  {
   "cell_type": "code",
   "execution_count": null,
   "id": "8f180fc1-e044-4693-ae78-e8f81e36e2e6",
   "metadata": {},
   "outputs": [],
   "source": []
  }
 ],
 "metadata": {
  "kernelspec": {
   "display_name": "Python 3 (ipykernel)",
   "language": "python",
   "name": "python3"
  },
  "language_info": {
   "codemirror_mode": {
    "name": "ipython",
    "version": 3
   },
   "file_extension": ".py",
   "mimetype": "text/x-python",
   "name": "python",
   "nbconvert_exporter": "python",
   "pygments_lexer": "ipython3",
   "version": "3.12.7"
  }
 },
 "nbformat": 4,
 "nbformat_minor": 5
}
